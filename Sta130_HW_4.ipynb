{
 "cells": [
  {
   "cell_type": "code",
   "execution_count": null,
   "id": "49f92441",
   "metadata": {},
   "outputs": [],
   "source": [
    "####1.\n",
    "\n",
    "## The \"Pre-lecture\" video (above) mentioned the \"standard error of the mean\" as being the \"standard deviation\" of the distribution bootstrapped means.  What is the difference between the \"standard error of the mean\" and the \"standard deviation\" of the original data? What distinct ideas do each of these capture? Explain this concisely in your own words.\n",
    "\n",
    "## My Responce:\n",
    "\n",
    "# The standard deviation of the original data measures how spread out individual data points are around the mean of that dataset. It reflects the variability within the dataset itself. \n",
    "# In contrast, the standard error of the mean quantifies how much the sample mean would vary if you repeatedly took samples from the population—it measures the variability of the sample mean estimates.\n",
    "# Essentially, while the standard deviation captures the dispersion of individual observations, the standard error captures the precision of the mean as an estimate of the population mean. \n",
    "\n"
   ]
  },
  {
   "cell_type": "code",
   "execution_count": null,
   "id": "45a00004",
   "metadata": {},
   "outputs": [],
   "source": [
    "####2.\n",
    "\n",
    "## The \"Pre-lecture\" video (above) suggested that the \"standard error of the mean\" could be used to create a confidence interval, but didn't describe exactly how to do this. How can we use the \"standard error of the mean\" to create a 95% confidence interval which \"covers 95% of the bootstrapped sample means\"? Explain this concisely in your own words.\n",
    "\n",
    "## My Responce:\n",
    "\n",
    "# To create a 95% confidence interval using the standard error of the mean, you multiply the standard error by a critical value from the standard normal distribution (usually 1.96 for 95% confidence). \n",
    "\n",
    "# The formula is:\n",
    "\n",
    "# Confidence Interval = Sample Mean ± (1.96 × Standard Error of the Mean)\n",
    "\n",
    "# This interval provides a range in which we are 95% confident that the true population mean lies. \n",
    "# The critical value (1.96) corresponds to the range that covers 95% of the bootstrapped sample means, assuming a normal distribution of the sample means.\n",
    "\n"
   ]
  },
  {
   "cell_type": "code",
   "execution_count": null,
   "id": "7c1ab30c",
   "metadata": {},
   "outputs": [],
   "source": [
    "####3.\n",
    "\n",
    "## Creating the \"sample mean plus and minus about 2 times the standard error\" confidence interval addressed in the previous problem should indeed cover approximately 95% of the bootstrapped sample means. Alternatively, how do we create a 95% bootstrapped confidence interval using the bootstrapped means (without using their standard deviation to estimate the standard error of the mean)? Explain this concisely in your own words.\n",
    "\n",
    "## My Responce:\n",
    "\n",
    "# To create a 95% bootstrapped confidence interval without using the standard error, you work directly with the bootstrapped sample means. \n",
    "# First, generate many bootstrapped samples by sampling with replacement, keeping each sample the same size as the original. \n",
    "# Calculate the mean for each sample, creating a distribution of means. \n",
    "# Then, use np.quantile() to find the 2.5th and 97.5th percentiles, which give you the lower and upper bounds of the interval. \n",
    "# This captures exactly 95% of the bootstrapped means, offering a more flexible approach than the standard error method, especially for non-normal data. \n",
    "# The sample size stays consistent to preserve the original variability and structure.\n",
    "\n"
   ]
  },
  {
   "cell_type": "code",
   "execution_count": 2,
   "id": "1c498230",
   "metadata": {},
   "outputs": [
    {
     "data": {
      "text/plain": [
       "((10.833333333333334, 24.166666666666668), (7.5, 27.5))"
      ]
     },
     "execution_count": 2,
     "metadata": {},
     "output_type": "execute_result"
    }
   ],
   "source": [
    "####4.\n",
    "\n",
    "## The \"Pre-lecture\" video (above) mentioned that bootstrap confidence intervals could apply to other statistics of the sample, such as the \"median\". Work with a ChatBot to create code to produce a 95% bootstrap confidence interval for a population mean based on a sample that you have and comment the code to demonstrate how the code can be changed to produce a 95% bootstrap confidence interval for different population parameter (other than the population mean, such as the population median).\n",
    "\n",
    "\n",
    "## The Code:\n",
    "    \n",
    "import numpy as np\n",
    "\n",
    "# Sample data (the data for which we want to calculate confidence intervals)\n",
    "data = np.array([5, 10, 15, 20, 25, 30])\n",
    "\n",
    "# Number of bootstrap samples (how many times we will resample the data with replacement)\n",
    "n_bootstrap = 10000\n",
    "\n",
    "# Initialize an empty array to store bootstrap means\n",
    "bootstrap_means = np.empty(n_bootstrap)\n",
    "\n",
    "# Loop to generate bootstrap samples and compute the mean for each sample\n",
    "for i in range(n_bootstrap):\n",
    "    # Generate a bootstrap sample (random sample of the data, with replacement)\n",
    "    bootstrap_sample = np.random.choice(data, size=len(data), replace=True)\n",
    "    # Calculate the mean of the bootstrap sample and store it in the array\n",
    "    bootstrap_means[i] = np.mean(bootstrap_sample)\n",
    "\n",
    "# Calculate the 95% confidence interval for the mean (percentiles at 2.5% and 97.5%)\n",
    "mean_ci_lower = np.percentile(bootstrap_means, 2.5)\n",
    "mean_ci_upper = np.percentile(bootstrap_means, 97.5)\n",
    "\n",
    "# Store the confidence interval for the mean as a tuple (lower bound, upper bound)\n",
    "mean_ci = (mean_ci_lower, mean_ci_upper)\n",
    "\n",
    "# Initialize an empty array to store bootstrap medians\n",
    "bootstrap_medians = np.empty(n_bootstrap)\n",
    "\n",
    "# Loop to generate bootstrap samples and compute the median for each sample\n",
    "for i in range(n_bootstrap):\n",
    "    # Generate a bootstrap sample (random sample of the data, with replacement)\n",
    "    bootstrap_sample = np.random.choice(data, size=len(data), replace=True)\n",
    "    # Calculate the median of the bootstrap sample and store it in the array\n",
    "    bootstrap_medians[i] = np.median(bootstrap_sample)\n",
    "\n",
    "# Calculate the 95% confidence interval for the median (percentiles at 2.5% and 97.5%)\n",
    "median_ci_lower = np.percentile(bootstrap_medians, 2.5)\n",
    "median_ci_upper = np.percentile(bootstrap_medians, 97.5)\n",
    "\n",
    "# Store the confidence interval for the median as a tuple (lower bound, upper bound)\n",
    "median_ci = (median_ci_lower, median_ci_upper)\n",
    "\n",
    "# Print the confidence intervals for the mean and the median\n",
    "mean_ci, median_ci\n",
    "\n",
    "\n"
   ]
  },
  {
   "cell_type": "code",
   "execution_count": null,
   "id": "e0e6a24d",
   "metadata": {},
   "outputs": [],
   "source": [
    "#### Pre-lecture Chatbot Session Summary:\n",
    " \n",
    "## Chatgpt Session Link: https://chatgpt.com/share/66fc14c5-1084-8004-b540-cdaa4681e72a\n",
    "\n",
    "# In this session, we began by discussing the conceptual differences between standard error of the mean (SEM) and standard deviation (SD). \n",
    "# The SD measures the variability of individual data points within a sample, while the SEM provides insight into the variability of the sample mean when estimating the population mean.\n",
    "# You learned how the SEM can be used to construct a 95% confidence interval (CI) for the population mean by applying the formula CI = Sample Mean ± 1.96 × SEM, assuming normality of the sample means.\n",
    "\n",
    "# Next, we transitioned into creating a 95% bootstrap confidence interval without relying on the SEM. Instead, we used the percentile method. \n",
    "# This method directly calculates a confidence interval by resampling (with replacement) from the original data to generate thousands of bootstrapped sample means. \n",
    "# Sorting these means and selecting the 2.5th and 97.5th percentiles gives the 95% confidence interval that covers the central 95% of the bootstrapped means. \n",
    "# This method does not require assumptions about the distribution of the data, making it more flexible.\n",
    "\n",
    "# I (The chatbot) provided a simple code implementation that:\n",
    "\n",
    "# Generated 10,000 bootstrapped samples.\n",
    "\n",
    "# Calculated the 95% confidence interval for the population mean using the bootstrapped means.\n",
    "\n",
    "# Demonstrated how to modify the code to estimate the population median by replacing np.mean() with np.median() in the bootstrapping loop.\n",
    "\n",
    "#The results showed:\n",
    "\n",
    "# A 95% CI for the population mean: approximately (10.83, 24.17)\n",
    "# A 95% CI for the population median: approximately (7.5, 27.5)\n",
    "# This demonstrated how the bootstrap method can be adapted to estimate confidence intervals for different population parameters (mean, median, or others).\n",
    "\n"
   ]
  },
  {
   "cell_type": "code",
   "execution_count": null,
   "id": "04238e10",
   "metadata": {},
   "outputs": [],
   "source": [
    "####5 \n",
    "\n",
    "## The previous question addresses making a confidence interval for a population parameter based on a sample statistic. Why do we need to distinguish between the role of the popualation parameter and the sample sample statistic when it comes to confidence intervals? Explain this concisely in your own words.\n",
    "\n",
    "## My responce:\n",
    "\n",
    "# We distinguish between the population parameter and the sample statistic because the population parameter is a fixed, unknown value that describes the entire population, while the sample statistic is a known value calculated from a subset of that population. \n",
    "# Confidence intervals use the sample statistic to estimate the range in which the population parameter likely falls, accounting for sampling variability. \n",
    "# Understanding this distinction helps clarify that the interval provides an estimate of the true population parameter, not the sample statistic itself.\n",
    "\n"
   ]
  },
  {
   "cell_type": "code",
   "execution_count": null,
   "id": "4f3922e4",
   "metadata": {},
   "outputs": [],
   "source": [
    "####6.\n",
    "\n",
    "##1. What is the process of bootstrapping?\n",
    "\n",
    "# Bootstrapping is a method where you take your existing data and create many new samples by randomly selecting from the original data, but with replacement (meaning you can pick the same value more than once). \n",
    "# For each of these new samples, you calculate a statistic, like the mean. \n",
    "# Repeating this process many times gives you a distribution of possible values for that statistic, based on the variation in your original sample.\n",
    "\n",
    "## 2. What is the main purpose of bootstrapping?\n",
    "\n",
    "# The main purpose of bootstrapping is to estimate how uncertain or variable an estimate (like the mean or median) might be. \n",
    "# It’s especially useful when you don’t know the underlying distribution of the data and can't assume things like normality. \n",
    "# Bootstrapping allows you to generate confidence intervals and make inferences about how reliable your estimates are, without requiring extra data or complex assumptions.\n",
    "\n",
    "\n",
    "##3. If you had a (hypothesized) guess about what the average of a population was, and you had a sample of size n from that population, how could you use bootstrapping to assess whether or not your (hypothesized) guess might be plausible?\n",
    " \n",
    "# Let’s say you hypothesize the average weight of a bird species is 100 grams, but you only have a sample of bird weights.\n",
    "# Using bootstrapping, you can resample your data many times to create new datasets, each giving a new mean. \n",
    "# This process produces a distribution of means, showing how much variation exists around the mean based on your sample.\n",
    "# You then compare your hypothesized mean (100 grams) to this bootstrapped distribution. \n",
    "# If 100 grams is within the central range of the distribution (e.g., within the middle 95%), your guess is plausible. \n",
    "# If it’s far outside, it’s likely incorrect. Bootstrapping helps you assess if your guess is consistent with the data you have.\n",
    "\n"
   ]
  },
  {
   "cell_type": "code",
   "execution_count": null,
   "id": "899a6639",
   "metadata": {},
   "outputs": [],
   "source": [
    "####7.\n",
    "\n",
    "## The \"Pre-lecture\" video (above) introduced hypothesis testing by saying that \"the confidence interval covers zero, so we cannot reject the hypothesis that the drug is [on average] not doing anything\". This conclusion could be referred to as \"failing to reject the null hypothesis\", where the term \"null\" refers to the concept of \"no effect [on average]\". Why does a confidence interval overlapping zero \"fail to reject the null hypothesis\" when the observed sample mean statistic itself is not zero? Alternatively, what would lead to the opposite conclusion in this context; namely, instead choosing \"to reject the null hypothesis\"? Explain the answers to these questions concisely in your own words.\n",
    "\n",
    "## My Responce:\n",
    "\n",
    "# When a confidence interval overlaps zero, it means that zero is within the range of plausible values for the population parameter (such as the true mean). \n",
    "# Since the null hypothesis typically states that there is no effect (i.e., the population mean equals zero), the inclusion of zero in the confidence interval suggests that we cannot rule out the possibility of no effect. \n",
    "# Therefore, we \"fail to reject the null hypothesis\" because the data does not provide strong enough evidence to conclude that the effect is different from zero, even if the observed sample mean itself is not zero.\n",
    "\n",
    "# On the other hand, to reject the null hypothesis, the confidence interval would need to entirely exclude zero. \n",
    "# This would indicate that all plausible values for the population parameter are either above or below zero, providing strong evidence that the effect is not zero. \n",
    "# In that case, we would reject the null hypothesis, concluding that there is a statistically significant effect.\n",
    "\n"
   ]
  },
  {
   "cell_type": "code",
   "execution_count": 5,
   "id": "5910c6bd",
   "metadata": {},
   "outputs": [],
   "source": [
    "####8.\n",
    "\n",
    "### Part 1: Problem Introduction\n",
    "\n",
    "# The goal is to evaluate whether the vaccine created by AliTech improves the health of patients.\n",
    "# Our null hypothesis (H₀) is that the vaccine has no effect, meaning the difference between InitialHealthScore and FinalHealthScore is zero. \n",
    "# The alternative hypothesis (H₁) is that the vaccine improves health, so the FinalHealthScore is greater than the InitialHealthScore.\n",
    "\n"
   ]
  },
  {
   "cell_type": "code",
   "execution_count": 6,
   "id": "bbb03615",
   "metadata": {
    "scrolled": false
   },
   "outputs": [
    {
     "data": {
      "image/png": "[encoded data removed]",
      "text/plain": [
       "<Figure size 640x480 with 1 Axes>"
      ]
     },
     "metadata": {},
     "output_type": "display_data"
    },
    {
     "data": {
      "image/png": "[encoded data removed]",
      "text/plain": [
       "<Figure size 640x480 with 1 Axes>"
      ]
     },
     "metadata": {},
     "output_type": "display_data"
    }
   ],
   "source": [
    "####8.\n",
    "\n",
    "### Part 2: Data Visualization\n",
    "\n",
    "## Here, I demonstate:\n",
    "   # A scatter plot showing InitialHealthScore vs FinalHealthScore.\n",
    "   # A histogram showing the distribution of the changes in health scores.\n",
    "\n",
    "import pandas as pd\n",
    "import matplotlib.pyplot as plt\n",
    "\n",
    "# Data from the question\n",
    "data = {\n",
    "    'PatientID': [1, 2, 3, 4, 5, 6, 7, 8, 9, 10],\n",
    "    'Age': [45, 34, 29, 52, 37, 41, 33, 48, 26, 39],\n",
    "    'Gender': ['M', 'F', 'M', 'F', 'M', 'F', 'M', 'F', 'M', 'F'],\n",
    "    'InitialHealthScore': [84, 78, 83, 81, 81, 80, 79, 85, 76, 83],\n",
    "    'FinalHealthScore': [86, 86, 80, 86, 84, 86, 86, 82, 83, 84]\n",
    "}\n",
    "\n",
    "df = pd.DataFrame(data)\n",
    "\n",
    "# Calculate the health score changes\n",
    "df['HealthChange'] = df['FinalHealthScore'] - df['InitialHealthScore']\n",
    "\n",
    "# Scatter plot Initial vs Final Health Score\n",
    "plt.scatter(df['InitialHealthScore'], df['FinalHealthScore'])\n",
    "plt.title('Initial vs Final Health Score')\n",
    "plt.xlabel('Initial Health Score')\n",
    "plt.ylabel('Final Health Score')\n",
    "plt.grid(True)\n",
    "plt.show()\n",
    "\n",
    "# Histogram of changes in Health Score\n",
    "plt.hist(df['HealthChange'], bins=5, edgecolor='black')\n",
    "plt.title('Distribution of Health Score Changes')\n",
    "plt.xlabel('Health Score Change')\n",
    "plt.ylabel('Frequency')\n",
    "plt.grid(True)\n",
    "plt.show()\n"
   ]
  },
  {
   "cell_type": "code",
   "execution_count": 8,
   "id": "72b43f8a",
   "metadata": {},
   "outputs": [
    {
     "name": "stdout",
     "output_type": "stream",
     "text": [
      "Mean Health Change: 3.3\n",
      "95% Confidence Interval for Mean Health Change: [0.7, 5.5]\n"
     ]
    }
   ],
   "source": [
    "####8.\n",
    "\n",
    "### Part 3: Quantitative Analysis\n",
    "\n",
    "## Now, let's perform bootstrapping to assess whether the vaccine has a significant effect. \n",
    "\n",
    "# We will:\n",
    "   # calculate the mean of the health score changes.\n",
    "   # Use bootstrapping to create a 95% confidence interval for the mean change in health score.\n",
    "\n",
    "import numpy as np\n",
    "\n",
    "# Define a bootstrapping function\n",
    "def bootstrap_mean(data, n_iterations=1000, seed=42):\n",
    "    np.random.seed(seed)\n",
    "    boot_means = []\n",
    "    for _ in range(n_iterations):\n",
    "        boot_sample = np.random.choice(data, size=len(data), replace=True)\n",
    "        boot_means.append(np.mean(boot_sample))\n",
    "    # Return the 2.5th and 97.5th percentiles (confidence interval)\n",
    "    return np.percentile(boot_means, [2.5, 97.5])\n",
    "\n",
    "# Mean change in health score\n",
    "mean_change = np.mean(df['HealthChange'])\n",
    "print(f\"Mean Health Change: {mean_change}\")\n",
    "\n",
    "# Bootstrap 95% confidence interval for the mean health change\n",
    "ci_lower, ci_upper = bootstrap_mean(df['HealthChange'].values)\n",
    "print(f\"95% Confidence Interval for Mean Health Change: [{ci_lower}, {ci_upper}]\")\n"
   ]
  },
  {
   "cell_type": "code",
   "execution_count": null,
   "id": "b1e3fbd4",
   "metadata": {},
   "outputs": [],
   "source": [
    "####8.\n",
    "\n",
    "### Part 4: Findings and Discussion\n",
    "\n",
    "# The analysis revealed an average improvement in health scores of [mean_change] points after receiving the vaccine. \n",
    "# To assess the significance of this change, we performed bootstrapping to calculate a 95% confidence interval for the mean health score change, which was [ci_lower, ci_upper]. \n",
    "# If this confidence interval contains zero, it suggests that the observed improvement may be due to random variation rather than the vaccine. \n",
    "# However, if zero is not within the interval, it indicates that the improvement is statistically significant.\n",
    "\n",
    "# The variability in the health score changes is visualized in the histogram, where most patients experienced improvements, though a few saw minimal or negative changes. \n",
    "# This suggests that while the vaccine had a positive effect on average, individual responses varied.\n",
    "\n",
    "### Part 5: \n",
    "\n",
    "# Based on the calculated 95% confidence interval for the mean health score change of [ci_lower, ci_upper], we can draw conclusions about the vaccine's effectiveness.\n",
    "# If zero is within the interval, we do not have sufficient evidence to reject the null hypothesis, meaning the data suggests the vaccine's effect may be due to chance. \n",
    "# However, if zero is not within the interval, we reject the null hypothesis, indicating that the vaccine has a statistically significant positive effect on health scores.\n",
    "\n",
    "# In either case, further testing with a larger sample size would help confirm these findings and provide a clearer understanding of the vaccine's overall effectiveness.\n",
    "\n"
   ]
  },
  {
   "cell_type": "code",
   "execution_count": null,
   "id": "3439e9ba",
   "metadata": {},
   "outputs": [],
   "source": [
    "#### Post-lecture Chatbot Session Summary:\n",
    " \n",
    "### Chatgpt Session Link: https://chatgpt.com/share/66fdc950-a3a4-8004-b2e1-c921087ba72d\n",
    "\n",
    "## In this session, we covered several key concepts related to statistical analysis and hypothesis testing:\n",
    "\n",
    "## Population Parameter and Sample Statistic in Confidence Intervals:\n",
    "\n",
    "# We discussed the distinction between population parameters (unknown values that describe a population, such as the population mean) and sample statistics (values calculated from a sample, such as the sample mean), focusing on how confidence intervals are constructed to estimate the true population parameter.\n",
    "# We explored how a confidence interval that overlaps zero typically leads to \"failing to reject the null hypothesis,\" even if the observed sample statistic (e.g., mean) is not zero, because zero is a plausible value for the population mean.\n",
    "\n",
    "## Bootstrapping Process:\n",
    "\n",
    "# I (the chatbot) explained the bootstrapping technique, which involves resampling a dataset with replacement to generate a distribution of a statistic (e.g., the mean or median), and how it helps estimate the uncertainty around a sample statistic. \n",
    "# Bootstrapping is particularly useful when theoretical assumptions about the data (such as normality) cannot be met, or when sample sizes are small.\n",
    "\n",
    "## Patient Health Dataset Analysis:\n",
    "\n",
    "# You provided a dataset containing patient information, including PatientID, Age, Gender, InitialHealthScore, and FinalHealthScore. \n",
    "# I generated a summary of the dataset, which included descriptive statistics (mean, count, etc.) for each column. \n",
    "# We noted that the data includes both categorical and numerical variables, with means calculated for age and health scores.\n",
    "\n",
    "## Null Hypothesis:\n",
    "\n",
    "# We covered the concept of the null hypothesis  which is the assumption that there is no effect or no difference (e.g., the population mean equals zero). \n",
    "# Hypothesis testing is about determining whether there is enough evidence in the data to reject this assumption in favor of an alternative hypothesis.\n"
   ]
  },
  {
   "cell_type": "code",
   "execution_count": null,
   "id": "4c88411a",
   "metadata": {},
   "outputs": [],
   "source": [
    "####9.\n",
    "\n",
    "## Somewhat"
   ]
  }
 ],
 "metadata": {
  "kernelspec": {
   "display_name": "Python 3 (ipykernel)",
   "language": "python",
   "name": "python3"
  },
  "language_info": {
   "codemirror_mode": {
    "name": "ipython",
    "version": 3
   },
   "file_extension": ".py",
   "mimetype": "text/x-python",
   "name": "python",
   "nbconvert_exporter": "python",
   "pygments_lexer": "ipython3",
   "version": "3.11.6"
  }
 },
 "nbformat": 4,
 "nbformat_minor": 5
}
